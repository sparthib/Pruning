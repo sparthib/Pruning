{
 "cells": [
  {
   "cell_type": "markdown",
   "metadata": {},
   "source": [
    "# Notes about pruning "
   ]
  },
  {
   "cell_type": "markdown",
   "metadata": {},
   "source": [
    "## What is pruning?\n",
    "\n",
    "A group of methods to reduce the size of neural networks in order to improve speed and efficiency of the model while trying to preserve efficiency. \n",
    "\n",
    "- After a model is trained, some connections are removed based on the ranking of each neuron's significance in the network. \n",
    "\n",
    "\n",
    "\n"
   ]
  },
  {
   "cell_type": "markdown",
   "metadata": {},
   "source": [
    "Not much is mentioned about this, but this as well is a method inspired by a phenomenon that occurs in the brain called synaptic pruning. It occurs during early childhood and adulthood where the brain eliminates unnecessary synapses( connections between neurons.)\n",
    "\n",
    "Rapid neuron and synaptic growth occurs during infant development (similar to creating and developing a full neural network model), neurons that are not used over the years are dropped by pruning their synapses. \n",
    "\n",
    "https://www.healthline.com/health/synaptic-pruning#an-indepth-lookhttps://www.healthline.com/health/synaptic-pruning#an-indepth-look\n"
   ]
  },
  {
   "cell_type": "markdown",
   "metadata": {},
   "source": [
    "In a fully connected NN, each neuron is connected to every neuron from the previous and successive layers. We want *sparsify*, that is make a neuron connected to only few other neurons in each layer. \n",
    "\n",
    "### Q: Since pruning is something that is only implemented after training a model, it wouldn't necessarily have an effect on the exploding gradients problem right? "
   ]
  },
  {
   "cell_type": "markdown",
   "metadata": {},
   "source": [
    "## So how exactly is these neurons contribution measured? \n",
    "\n",
    "- Based on their L1/L2 norm of the neuron's weights.\n",
    "\n",
    "- L1 norm is the absolute value of it\n"
   ]
  },
  {
   "cell_type": "markdown",
   "metadata": {},
   "source": [
    "## Why do we need pruning? \n",
    "\n",
    "Deep learning models although having become more accurate during the years, are getting larger --> speed and cost of training increases. \n",
    "This is not great for AI powered mobile apps. Consume lot of memory and electricity. "
   ]
  },
  {
   "cell_type": "markdown",
   "metadata": {},
   "source": [
    " \n",
    " ## How do we use second derivative data to remove unimportant weights?  \n"
   ]
  },
  {
   "cell_type": "markdown",
   "metadata": {},
   "source": []
  },
  {
   "cell_type": "markdown",
   "metadata": {},
   "source": [
    "## What's great about sparse networks? \n",
    "\n",
    "- What is latency imporvement? "
   ]
  },
  {
   "cell_type": "markdown",
   "metadata": {},
   "source": [
    "## What is iterative pruning? Why do pruning in an iterative fashion to avoid pruning of necessary neurons? \n",
    "\n",
    "- A cycle of pruning and training neurons to make sure the final pruned neural network gives reasonable accuracy results. With each cycle we increase the amount of pruned neurons until the accuracy drops too much. "
   ]
  },
  {
   "cell_type": "markdown",
   "metadata": {},
   "source": [
    "## Types of pruning: \n",
    "\n",
    "\n"
   ]
  },
  {
   "cell_type": "markdown",
   "metadata": {},
   "source": [
    "### Does pruning have an edge over drop-out regularization when it comes to solving the extreme gradients problem? \n",
    "### We could do a follow-up experiment on comparing the two? \n",
    "\n",
    "- May seem similar, but pruning is implemented post-training. \n",
    "- Also drop-out randomly cuts off neurons(not based on their importance). "
   ]
  },
  {
   "cell_type": "markdown",
   "metadata": {},
   "source": [
    "### References: \n",
    "\n",
    "https://analyticsindiamag.com/what-is-neural-network-pruning-and-why-is-it-important-today/#:~:text=is%20called%20pruning.-,What%20is%20Neural%20Network%20Pruning,determine%20the%20importance%20of%20connections."
   ]
  }
 ],
 "metadata": {
  "language_info": {
   "codemirror_mode": {
    "name": "ipython",
    "version": 3
   },
   "file_extension": ".py",
   "mimetype": "text/x-python",
   "name": "python",
   "nbconvert_exporter": "python",
   "pygments_lexer": "ipython3",
   "version": 3
  },
  "orig_nbformat": 2,
  "kernelspec": {
   "name": "python_defaultSpec_1595117428576",
   "display_name": "Python 3.8.3 64-bit"
  }
 },
 "nbformat": 4,
 "nbformat_minor": 2
}
